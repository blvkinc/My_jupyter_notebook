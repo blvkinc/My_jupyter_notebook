{
 "cells": [
  {
   "cell_type": "markdown",
   "metadata": {},
   "source": [
    "# My Jupyter Notebook"
   ]
  },
  {
   "cell_type": "markdown",
   "metadata": {},
   "source": [
    "# Introduction\n",
    "Data science is a multidisciplinary field that involves the use of statistical and computational methods to extract insights and knowledge from data. With the rise of big data, data science has become increasingly important in today's data-driven world, and it is used in a wide range of industries, including finance, healthcare, marketing, and manufacturing, among others"
   ]
  },
  {
   "cell_type": "markdown",
   "metadata": {},
   "source": [
    "## Data Science Languages\n",
    "The most commonly used data science languages are:\n",
    "- R\n",
    "- Python\n",
    "- SQL"
   ]
  },
  {
   "cell_type": "markdown",
   "metadata": {},
   "source": [
    "## Data Science Libraries\n",
    "Some of the most popular data science libraries are:\n",
    "- NumPy\n",
    "- Pandas\n",
    "- Matplotlib\n",
    "- Scikit-learn\n",
    "- TensorFlow"
   ]
  },
  {
   "cell_type": "markdown",
   "metadata": {},
   "source": [
    "## Data Science Tools Table\n",
    "\n",
    "| Category | Tools |\n",
    "| --- | --- |\n",
    "| Data Collection | Selenium, Beautiful Soup, Scrapy |\n",
    "| Data Cleaning | OpenRefine, Trifacta, DataWrangler |\n",
    "| Data Analysis | Jupyter Notebook, RStudio, Spyder |\n",
    "| Machine Learning | Scikit-learn, TensorFlow, Keras |\n",
    "| Data Visualization | Matplotlib, Seaborn, Plotly |\n"
   ]
  },
  {
   "cell_type": "markdown",
   "metadata": {},
   "source": [
    "## Arithmetic Expression Examples\n",
    "In this notebook, we will be using arithmetic expressions to demonstrate various concepts. Arithmetic expressions involve mathematical operations such as addition, subtraction, multiplication, and division.\n"
   ]
  },
  {
   "cell_type": "markdown",
   "metadata": {},
   "source": [
    "## Multiplying and Adding Numbers\n",
    "\n",
    "Addition and Multiplication\n",
    "\n",
    "```python\n",
    "a = 2\n",
    "b = 3\n",
    "c = a * b\n",
    "d = a + b\n",
    "print(c)\n",
    "print(d)\n"
   ]
  },
  {
   "cell_type": "markdown",
   "metadata": {},
   "source": [
    "## Convert Minutes to Hours\n",
    "\n",
    "To convert minutes to hours, we can divide the number of minutes by 60. Here's an example code cell:\n",
    "\n",
    "```python\n",
    "minutes = 120\n",
    "hours = minutes / 60\n",
    "print(hours)\n"
   ]
  },
  {
   "cell_type": "markdown",
   "metadata": {},
   "source": [
    "\n",
    "##  Objectives\n",
    "\n",
    "The objectives of this notebook are to:\n",
    "- Introduce common data science languages and libraries\n",
    "- Explore popular data science tools\n",
    "- Demonstrate basic arithmetic expressions in Python\n"
   ]
  },
  {
   "cell_type": "markdown",
   "metadata": {},
   "source": [
    "## Exercise 11 - Author\n",
    "\n",
    "This notebook was created by Dhanuja Siriwardena. \n"
   ]
  },
  {
   "cell_type": "code",
   "execution_count": null,
   "metadata": {},
   "outputs": [],
   "source": []
  }
 ],
 "metadata": {
  "kernelspec": {
   "display_name": "Python 3 (ipykernel)",
   "language": "python",
   "name": "python3"
  },
  "language_info": {
   "codemirror_mode": {
    "name": "ipython",
    "version": 3
   },
   "file_extension": ".py",
   "mimetype": "text/x-python",
   "name": "python",
   "nbconvert_exporter": "python",
   "pygments_lexer": "ipython3",
   "version": "3.11.1"
  }
 },
 "nbformat": 4,
 "nbformat_minor": 4
}
